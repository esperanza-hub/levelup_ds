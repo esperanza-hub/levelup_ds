{
 "cells": [
  {
   "cell_type": "markdown",
   "metadata": {
    "jupyter": {
     "outputs_hidden": true
    }
   },
   "source": [
    "# Домашнее задание по теме: MongoDB"
   ]
  },
  {
   "cell_type": "markdown",
   "metadata": {},
   "source": [
    "## Подготовка"
   ]
  },
  {
   "cell_type": "markdown",
   "metadata": {},
   "source": [
    "Установка `MongoDB` + `Robo 3T`:\n",
    "\n",
    "- [MongoDB Community Server](https://www.mongodb.com/try/download/community)\n",
    "\n",
    "- [Robo 3T: the hobbyist GUI](https://robomongo.org/download)"
   ]
  },
  {
   "cell_type": "code",
   "execution_count": 1,
   "metadata": {},
   "outputs": [
    {
     "name": "stdout",
     "output_type": "stream",
     "text": [
      "pip 20.3.3 from C:\\Users\\nadin\\anaconda3\\envs\\levelup_ds\\lib\\site-packages\\pip (python 3.8)\n",
      "\n"
     ]
    }
   ],
   "source": [
    "# ВНИМАНИЕ: необходимо удостовериться, что виртуальная среда выбрана правильно!\n",
    "\n",
    "!pip -V"
   ]
  },
  {
   "cell_type": "code",
   "execution_count": 2,
   "metadata": {},
   "outputs": [
    {
     "name": "stdout",
     "output_type": "stream",
     "text": [
      "Collecting package metadata (current_repodata.json): ...working... done\n",
      "Solving environment: ...working... done\n",
      "\n",
      "## Package Plan ##\n",
      "\n",
      "  environment location: C:\\Users\\nadin\\anaconda3\\envs\\levelup_ds\n",
      "\n",
      "  added / updated specs:\n",
      "    - pymongo\n",
      "\n",
      "\n",
      "The following packages will be downloaded:\n",
      "\n",
      "    package                    |            build\n",
      "    ---------------------------|-----------------\n",
      "    openssl-1.1.1k             |       h2bbff1b_0         4.8 MB\n",
      "    pymongo-3.11.3             |   py38hd77b12b_0         1.3 MB\n",
      "    ------------------------------------------------------------\n",
      "                                           Total:         6.1 MB\n",
      "\n",
      "The following NEW packages will be INSTALLED:\n",
      "\n",
      "  pymongo            pkgs/main/win-64::pymongo-3.11.3-py38hd77b12b_0\n",
      "\n",
      "The following packages will be UPDATED:\n",
      "\n",
      "  ca-certificates    conda-forge/label/cf202003::ca-certif~ --> pkgs/main::ca-certificates-2021.1.19-haa95532_1\n",
      "  openssl                                 1.1.1j-h2bbff1b_0 --> 1.1.1k-h2bbff1b_0\n",
      "\n",
      "The following packages will be SUPERSEDED by a higher-priority channel:\n",
      "\n",
      "  certifi            conda-forge::certifi-2020.12.5-py38ha~ --> pkgs/main::certifi-2020.12.5-py38haa95532_0\n",
      "\n",
      "\n",
      "\n",
      "Downloading and Extracting Packages\n",
      "\n",
      "openssl-1.1.1k       | 4.8 MB    |            |   0% \n",
      "openssl-1.1.1k       | 4.8 MB    |            |   0% \n",
      "openssl-1.1.1k       | 4.8 MB    | 1          |   2% \n",
      "openssl-1.1.1k       | 4.8 MB    | 3          |   4% \n",
      "openssl-1.1.1k       | 4.8 MB    | 5          |   5% \n",
      "openssl-1.1.1k       | 4.8 MB    | 8          |   8% \n",
      "openssl-1.1.1k       | 4.8 MB    | #1         |  11% \n",
      "openssl-1.1.1k       | 4.8 MB    | #4         |  14% \n",
      "openssl-1.1.1k       | 4.8 MB    | #7         |  18% \n",
      "openssl-1.1.1k       | 4.8 MB    | ##         |  21% \n",
      "openssl-1.1.1k       | 4.8 MB    | ##3        |  23% \n",
      "openssl-1.1.1k       | 4.8 MB    | ##7        |  27% \n",
      "openssl-1.1.1k       | 4.8 MB    | ###        |  30% \n",
      "openssl-1.1.1k       | 4.8 MB    | ###5       |  35% \n",
      "openssl-1.1.1k       | 4.8 MB    | ###8       |  39% \n",
      "openssl-1.1.1k       | 4.8 MB    | ####2      |  42% \n",
      "openssl-1.1.1k       | 4.8 MB    | ####6      |  46% \n",
      "openssl-1.1.1k       | 4.8 MB    | ####9      |  49% \n",
      "openssl-1.1.1k       | 4.8 MB    | #####3     |  53% \n",
      "openssl-1.1.1k       | 4.8 MB    | #####7     |  58% \n",
      "openssl-1.1.1k       | 4.8 MB    | ######2    |  63% \n",
      "openssl-1.1.1k       | 4.8 MB    | ######7    |  67% \n",
      "openssl-1.1.1k       | 4.8 MB    | #######1   |  72% \n",
      "openssl-1.1.1k       | 4.8 MB    | #######5   |  76% \n",
      "openssl-1.1.1k       | 4.8 MB    | ########   |  80% \n",
      "openssl-1.1.1k       | 4.8 MB    | ########4  |  85% \n",
      "openssl-1.1.1k       | 4.8 MB    | ########9  |  89% \n",
      "openssl-1.1.1k       | 4.8 MB    | #########4 |  94% \n",
      "openssl-1.1.1k       | 4.8 MB    | #########8 |  99% \n",
      "openssl-1.1.1k       | 4.8 MB    | ########## | 100% \n",
      "\n",
      "pymongo-3.11.3       | 1.3 MB    |            |   0% \n",
      "pymongo-3.11.3       | 1.3 MB    | 1          |   1% \n",
      "pymongo-3.11.3       | 1.3 MB    | ###8       |  39% \n",
      "pymongo-3.11.3       | 1.3 MB    | #####2     |  52% \n",
      "pymongo-3.11.3       | 1.3 MB    | ######7    |  67% \n",
      "pymongo-3.11.3       | 1.3 MB    | ########3  |  83% \n",
      "pymongo-3.11.3       | 1.3 MB    | #########8 |  98% \n",
      "pymongo-3.11.3       | 1.3 MB    | ########## | 100% \n",
      "Preparing transaction: ...working... done\n",
      "Verifying transaction: ...working... done\n",
      "Executing transaction: ...working... done\n"
     ]
    }
   ],
   "source": [
    "# установка необходимых пакетов\n",
    "!conda install pymongo -y"
   ]
  },
  {
   "cell_type": "markdown",
   "metadata": {},
   "source": [
    "## Работа с данными полученными в результате выполнения [домашнего задания 5_web_scraping](./05_web_scraping.ipynb)\n",
    "\n",
    "**ВНИМАНИЕ**: далее необходимо выполнить задание из файла [7_MongoDB_with_scrapy_results.py](./07_3_MongoDB_with_scrapy_results.py)"
   ]
  }
 ],
 "metadata": {
  "kernelspec": {
   "display_name": "Python [conda env:levelup_ds] *",
   "language": "python",
   "name": "conda-env-levelup_ds-py"
  },
  "language_info": {
   "codemirror_mode": {
    "name": "ipython",
    "version": 3
   },
   "file_extension": ".py",
   "mimetype": "text/x-python",
   "name": "python",
   "nbconvert_exporter": "python",
   "pygments_lexer": "ipython3",
   "version": "3.8.5"
  }
 },
 "nbformat": 4,
 "nbformat_minor": 4
}
